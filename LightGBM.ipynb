{
 "cells": [
  {
   "cell_type": "code",
   "execution_count": 5,
   "metadata": {
    "scrolled": false
   },
   "outputs": [
    {
     "name": "stdout",
     "output_type": "stream",
     "text": [
      "[1]\tvalid_0's auc: 0.973164\n",
      "Training until validation scores don't improve for 5 rounds.\n",
      "[2]\tvalid_0's auc: 0.974783\n",
      "[3]\tvalid_0's auc: 0.975053\n",
      "[4]\tvalid_0's auc: 0.975366\n",
      "[5]\tvalid_0's auc: 0.975327\n",
      "[6]\tvalid_0's auc: 0.975413\n",
      "[7]\tvalid_0's auc: 0.983587\n",
      "[8]\tvalid_0's auc: 0.983719\n",
      "[9]\tvalid_0's auc: 0.985384\n",
      "[10]\tvalid_0's auc: 0.985509\n",
      "[11]\tvalid_0's auc: 0.991205\n",
      "[12]\tvalid_0's auc: 0.992166\n",
      "[13]\tvalid_0's auc: 0.992434\n",
      "[14]\tvalid_0's auc: 0.992457\n",
      "[15]\tvalid_0's auc: 0.99259\n",
      "[16]\tvalid_0's auc: 0.992698\n",
      "[17]\tvalid_0's auc: 0.992826\n",
      "[18]\tvalid_0's auc: 0.992875\n",
      "[19]\tvalid_0's auc: 0.992985\n",
      "[20]\tvalid_0's auc: 0.992997\n",
      "Did not meet early stopping. Best iteration is:\n",
      "[20]\tvalid_0's auc: 0.992997\n",
      "0.9527618095476131\n",
      "0.9532197154303907\n"
     ]
    },
    {
     "name": "stderr",
     "output_type": "stream",
     "text": [
      "c:\\users\\eric\\appdata\\local\\programs\\python\\python36\\lib\\site-packages\\lightgbm\\engine.py:112: UserWarning: Found `early_stopping_round` in params. Will use it instead of argument\n",
      "  warnings.warn(\"Found `{}` in params. Will use it instead of argument\".format(alias))\n"
     ]
    }
   ],
   "source": [
    "import numpy as np\n",
    "import matplotlib.pyplot as plt\n",
    "import pandas as pd\n",
    "import lightgbm as lgb\n",
    "\n",
    "# Importing the dataset\n",
    "dataset = pd.read_csv('train.csv')\n",
    "\n",
    "FEATURE_SIZE=13\n",
    "X = dataset.iloc[:,0:FEATURE_SIZE].values\n",
    "y = dataset.iloc[:, FEATURE_SIZE].values\n",
    "\n",
    "# Splitting the dataset into the Training set and Test set\n",
    "from sklearn.model_selection import train_test_split\n",
    "x_train, x_val, y_train, y_val = train_test_split(X, y, test_size = 0.2, random_state = 0)\n",
    "x_val, x_test, y_val, y_test = train_test_split(x_val, y_val, test_size = 0.2, random_state = 0)\n",
    "\n",
    "# Feature Scaling\n",
    "from sklearn.preprocessing import StandardScaler\n",
    "sc = StandardScaler()\n",
    "x_train = sc.fit_transform(x_train)\n",
    "x_test = sc.transform(x_test)\n",
    "x_val=sc.transform(x_val)\n",
    "\n",
    "# Training\n",
    "d_train = lgb.Dataset(x_train, label=y_train)\n",
    "d_val = lgb.Dataset(x_val, label=y_val)\n",
    "d_test=lgb.Dataset(x_test,label=y_test)\n",
    "\n",
    "params = {\n",
    "            'objective': 'binary',\n",
    "            'boosting_type': 'gbdt',\n",
    "#             'boosting_type': 'rf',\n",
    "            'nthread': 4,\n",
    "            'learning_rate': 0.02,  # 02,\n",
    "            'num_leaves': 15,\n",
    "            'feature_fraction': 0.9,\n",
    "            'bagging_fraction': 0.7,\n",
    "            'bagging_freq': 1,\n",
    "            'early_stopping_round':5,\n",
    "            'max_depth':2,\n",
    "            'reg_alpha': 0.041545473,\n",
    "            'reg_lambda': 0.0735294,\n",
    "            'min_split_gain': 0.0222415,\n",
    "            'min_child_weight': 60,\n",
    "            'seed': 0,\n",
    "            'verbose': -1,\n",
    "            'metric': 'auc',\n",
    "}\n",
    "\n",
    "\n",
    "clf = lgb.train(params, d_train, 20,d_val)\n",
    "\n",
    "#Prediction\n",
    "y_pred=clf.predict(x_test)\n",
    "#convert into binary values\n",
    "for i in range(len(y_pred)):\n",
    "    if y_pred[i]>=.5:       # setting threshold to .5\n",
    "       y_pred[i]=1\n",
    "    else:\n",
    "       y_pred[i]=0\n",
    "    \n",
    "#Accuracy\n",
    "from sklearn.metrics import accuracy_score\n",
    "accuracy=accuracy_score(y_pred,y_test)\n",
    "print(accuracy)\n",
    "\n",
    "# AUC\n",
    "from sklearn.metrics import roc_auc_score\n",
    "print(roc_auc_score(y_test, y_pred))\n"
   ]
  },
  {
   "cell_type": "code",
   "execution_count": 6,
   "metadata": {},
   "outputs": [],
   "source": [
    "testdata = pd.read_csv('test.csv')\n",
    "x_testing = testdata.iloc[:,0:FEATURE_SIZE].values\n",
    "x_testing = sc.transform(x_testing)\n",
    "y_pred=clf.predict(x_testing)"
   ]
  },
  {
   "cell_type": "code",
   "execution_count": 7,
   "metadata": {},
   "outputs": [],
   "source": [
    "import csv\n",
    "with open(\"kaggle.csv\",\"w\",newline=\"\") as csvfile:\n",
    "    writer=csv.writer(csvfile)\n",
    "    writer.writerow([\"Id\",\"Prediction\"])\n",
    "    test_id=1\n",
    "    for prediction in y_pred:\n",
    "        writer.writerow([test_id,prediction])\n",
    "        test_id+=1"
   ]
  },
  {
   "cell_type": "code",
   "execution_count": null,
   "metadata": {},
   "outputs": [],
   "source": []
  }
 ],
 "metadata": {
  "kernelspec": {
   "display_name": "Python 3",
   "language": "python",
   "name": "python3"
  },
  "language_info": {
   "codemirror_mode": {
    "name": "ipython",
    "version": 3
   },
   "file_extension": ".py",
   "mimetype": "text/x-python",
   "name": "python",
   "nbconvert_exporter": "python",
   "pygments_lexer": "ipython3",
   "version": "3.6.5"
  }
 },
 "nbformat": 4,
 "nbformat_minor": 2
}
