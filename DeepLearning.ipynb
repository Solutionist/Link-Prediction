{
 "cells": [
  {
   "cell_type": "code",
   "execution_count": 1,
   "metadata": {},
   "outputs": [],
   "source": [
    "import numpy as np\n",
    "import matplotlib.pyplot as plt\n",
    "import pandas as pd\n",
    "\n",
    "FEATURE_SIZE=13\n",
    "\n",
    "# Importing the dataset\n",
    "dataset = pd.read_csv('train.csv')\n",
    "X = dataset.iloc[:,0:FEATURE_SIZE].values\n",
    "y = dataset.iloc[:, FEATURE_SIZE].values"
   ]
  },
  {
   "cell_type": "code",
   "execution_count": 2,
   "metadata": {},
   "outputs": [],
   "source": [
    "# Splitting the dataset into the Training set and Test set\n",
    "from sklearn.model_selection import train_test_split\n",
    "x_train, x_test, y_train, y_test = train_test_split(X, y, test_size = 0.2, random_state = 0)\n",
    "\n",
    "# Feature Scaling\n",
    "from sklearn.preprocessing import StandardScaler\n",
    "sc = StandardScaler()\n",
    "x_train = sc.fit_transform(x_train)\n",
    "x_test = sc.transform(x_test)\n"
   ]
  },
  {
   "cell_type": "code",
   "execution_count": 3,
   "metadata": {},
   "outputs": [
    {
     "name": "stderr",
     "output_type": "stream",
     "text": [
      "c:\\users\\eric\\appdata\\local\\programs\\python\\python36\\lib\\site-packages\\h5py\\__init__.py:36: FutureWarning: Conversion of the second argument of issubdtype from `float` to `np.floating` is deprecated. In future, it will be treated as `np.float64 == np.dtype(float).type`.\n",
      "  from ._conv import register_converters as _register_converters\n",
      "Using TensorFlow backend.\n"
     ]
    }
   ],
   "source": [
    "import numpy as np\n",
    "import tensorflow as tf\n",
    "from sklearn.metrics import roc_auc_score\n",
    "from sklearn.datasets import make_classification\n",
    "from keras.models import Sequential\n",
    "from keras.layers import Dense\n",
    "from keras.utils import np_utils\n",
    "from keras.callbacks import Callback, EarlyStopping\n",
    "\n",
    "def auc_roc(y_true, y_pred):\n",
    "    value, update_op = tf.metrics.auc(y_pred, y_true)\n",
    "    metric_vars = [i for i in tf.local_variables() if 'auc_roc' in i.name.split('/')[1]]\n",
    "    for v in metric_vars:\n",
    "        tf.add_to_collection(tf.GraphKeys.GLOBAL_VARIABLES, v)\n",
    "    with tf.control_dependencies([update_op]):\n",
    "        value = tf.identity(value)\n",
    "        return value"
   ]
  },
  {
   "cell_type": "code",
   "execution_count": 11,
   "metadata": {},
   "outputs": [],
   "source": [
    "from keras.optimizers import Adam\n",
    "from keras.initializers import RandomUniform,Constant\n",
    "from keras.models import Sequential\n",
    "from keras.layers import Dense,Dropout\n",
    "from keras import metrics\n",
    "\n",
    "optimizer = 'Adam'\n",
    "learning_rate = 0.001\n",
    "decay = 1e-6\n",
    "momentum = 0.8\n",
    "layer_weight_initializer_min = -0.005\n",
    "layer_weight_initializer_max = 0.005\n",
    "bias_initializer = 0.001\n",
    "beta_1 = 0.95\n",
    "beta_2 = 0.999\n",
    "epsilon = 1e-08\n",
    "adam = Adam(lr=learning_rate, beta_1=beta_1, beta_2=beta_2, epsilon=epsilon)\n",
    "batch_size = 512 \n",
    "iteration_times = 500\n",
    "EPOCHS=20\n",
    "# hypermeters objects\n",
    "random_initializer = RandomUniform(minval=layer_weight_initializer_min, maxval=layer_weight_initializer_max)\n",
    "bias_init = Constant(value=bias_initializer)\n"
   ]
  },
  {
   "cell_type": "code",
   "execution_count": 12,
   "metadata": {},
   "outputs": [],
   "source": [
    "model = Sequential()\n",
    "model.add(Dense(512, input_shape=(x_train.shape[1],), use_bias=True, kernel_initializer=random_initializer,\n",
    "                activation='relu',bias_initializer=bias_init))\n",
    "model.add(Dropout(0.2))\n",
    "model.add(Dense(512, use_bias=True, kernel_initializer=random_initializer, activation='relu',\n",
    "                bias_initializer=bias_init))\n",
    "model.add(Dropout(0.2))\n",
    "model.add(Dense(1, use_bias=False, kernel_initializer=random_initializer))\n",
    "# model.add(Dense(1, use_bias=False, kernel_initializer=random_initializer,activation='sigmoid'))\n",
    "\n",
    "my_callbacks = [EarlyStopping(monitor='auc_roc', patience=5, verbose=1, mode='max')]\n",
    "\n",
    "model.compile(optimizer=adam, loss='binary_crossentropy', metrics=[auc_roc])"
   ]
  },
  {
   "cell_type": "code",
   "execution_count": 13,
   "metadata": {},
   "outputs": [
    {
     "name": "stdout",
     "output_type": "stream",
     "text": [
      "Train on 80020 samples, validate on 20005 samples\n",
      "Epoch 1/20\n",
      "80020/80020 [==============================] - 7s 86us/step - loss: 0.5486 - auc_roc: 0.0000e+00 - val_loss: 0.2693 - val_auc_roc: 0.0000e+00\n",
      "Epoch 2/20\n",
      "80020/80020 [==============================] - 6s 79us/step - loss: 0.1883 - auc_roc: 0.0000e+00 - val_loss: 0.1556 - val_auc_roc: 0.0000e+00\n",
      "Epoch 3/20\n",
      "80020/80020 [==============================] - 6s 81us/step - loss: 0.1419 - auc_roc: 0.5409 - val_loss: 0.1344 - val_auc_roc: 0.7574\n",
      "Epoch 4/20\n",
      "80020/80020 [==============================] - 6s 78us/step - loss: 0.1299 - auc_roc: 0.7629 - val_loss: 0.1258 - val_auc_roc: 0.7662\n",
      "Epoch 5/20\n",
      "80020/80020 [==============================] - 7s 84us/step - loss: 0.1272 - auc_roc: 0.7680 - val_loss: 0.1331 - val_auc_roc: 0.7695\n",
      "Epoch 6/20\n",
      "80020/80020 [==============================] - 7s 82us/step - loss: 0.1482 - auc_roc: 0.7683 - val_loss: 0.1666 - val_auc_roc: 0.7671\n",
      "Epoch 7/20\n",
      "80020/80020 [==============================] - 7s 82us/step - loss: 0.1549 - auc_roc: 0.7657 - val_loss: 0.1214 - val_auc_roc: 0.7646\n",
      "Epoch 8/20\n",
      "80020/80020 [==============================] - 6s 69us/step - loss: 0.1259 - auc_roc: 0.7640 - val_loss: 0.1216 - val_auc_roc: 0.7635\n",
      "Epoch 9/20\n",
      "80020/80020 [==============================] - 6s 70us/step - loss: 0.1202 - auc_roc: 0.7628 - val_loss: 0.1135 - val_auc_roc: 0.7624\n",
      "Epoch 10/20\n",
      "80020/80020 [==============================] - 6s 74us/step - loss: 0.1174 - auc_roc: 0.7622 - val_loss: 0.1104 - val_auc_roc: 0.7619\n",
      "Epoch 11/20\n",
      "80020/80020 [==============================] - 7s 85us/step - loss: 0.1130 - auc_roc: 0.7621 - val_loss: 0.1059 - val_auc_roc: 0.7633\n",
      "Epoch 00011: early stopping\n"
     ]
    }
   ],
   "source": [
    "history = model.fit(x_train,\n",
    "                    y_train,\n",
    "                    shuffle=True,\n",
    "                    epochs=EPOCHS,\n",
    "                    batch_size=batch_size,\n",
    "                    validation_data=(x_test, y_test),\n",
    "                    verbose=1,\n",
    "                    callbacks=my_callbacks)"
   ]
  },
  {
   "cell_type": "code",
   "execution_count": 14,
   "metadata": {
    "scrolled": true
   },
   "outputs": [
    {
     "data": {
      "image/png": "[encoded data removed]",
      "text/plain": [
       "<Figure size 432x288 with 1 Axes>"
      ]
     },
     "metadata": {},
     "output_type": "display_data"
    },
    {
     "data": {
      "image/png": "[encoded data removed]",
      "text/plain": [
       "<Figure size 432x288 with 1 Axes>"
      ]
     },
     "metadata": {},
     "output_type": "display_data"
    }
   ],
   "source": [
    "# Plotting the training and validation loss\n",
    "\n",
    "import matplotlib.pyplot as plt\n",
    "\n",
    "auc_roc = history.history['auc_roc']  # train acc\n",
    "val_auc_roc = history.history['val_auc_roc']  # val acc\n",
    "# acc = history.history['binary_accuracy']  # train acc\n",
    "# val_acc = history.history['val_binary_accuracy']  # val acc\n",
    "loss = history.history['loss']  # train loss\n",
    "val_loss = history.history['val_loss']  # val loss\n",
    "\n",
    "# epochs = range(1, len(acc)+1)  # iterations\n",
    "epochs = range(1, len(auc_roc)+1)  # iterations\n",
    "\n",
    "plt.plot(epochs, loss, 'bo', label='Training loss') \n",
    "plt.plot(epochs, val_loss, 'r', label='Validation loss')\n",
    "plt.title('Training and validation loss')\n",
    "plt.xlabel('Epochs')\n",
    "plt.ylabel('Loss')\n",
    "plt.legend()\n",
    "plt.show()\n",
    "\n",
    "# plt.clf()  # clar figure\n",
    "# plt.plot(epochs, acc, 'bo', label='Training acc')\n",
    "# plt.plot(epochs, val_acc, 'r', label='Validation acc')\n",
    "# plt.title('Training and validation Accuracy')\n",
    "# plt.xlabel('Epochs')\n",
    "# plt.ylabel('Loss')\n",
    "# plt.legend()\n",
    "# plt.show()\n",
    "\n",
    "plt.clf()  # clar figure\n",
    "plt.plot(epochs, auc_roc, 'bo', label='Training auc_roc')\n",
    "plt.plot(epochs, val_auc_roc, 'r', label='Validation auc_roc')\n",
    "plt.title('Training and validation Accuracy')\n",
    "plt.xlabel('Epochs')\n",
    "plt.ylabel('Loss')\n",
    "plt.legend()\n",
    "plt.show()"
   ]
  },
  {
   "cell_type": "code",
   "execution_count": 15,
   "metadata": {},
   "outputs": [
    {
     "name": "stdout",
     "output_type": "stream",
     "text": [
      "20005/20005 [==============================] - 2s 101us/step\n"
     ]
    },
    {
     "data": {
      "text/plain": [
       "[0.10590712343647767, 0.7637417702310176]"
      ]
     },
     "execution_count": 15,
     "metadata": {},
     "output_type": "execute_result"
    }
   ],
   "source": [
    "model.evaluate(x_test, y_test)"
   ]
  },
  {
   "cell_type": "code",
   "execution_count": 16,
   "metadata": {},
   "outputs": [],
   "source": [
    "testdata = pd.read_csv('test.csv')\n",
    "x_testing = testdata.iloc[:,0:FEATURE_SIZE].values\n",
    "x_testing = sc.transform(x_testing)\n",
    "\n",
    "predictions=model.predict(x_testing)"
   ]
  },
  {
   "cell_type": "code",
   "execution_count": 17,
   "metadata": {},
   "outputs": [],
   "source": [
    "new_predictions=[]\n",
    "for prediction in predictions:\n",
    "    if prediction[0]>=1:\n",
    "        new_predictions.append(1)\n",
    "    else:\n",
    "        new_predictions.append(prediction[0])"
   ]
  },
  {
   "cell_type": "code",
   "execution_count": 18,
   "metadata": {},
   "outputs": [],
   "source": [
    "import csv\n",
    "with open(\"kaggle.csv\",\"w\",newline=\"\") as csvfile:\n",
    "    writer=csv.writer(csvfile)\n",
    "    writer.writerow([\"Id\",\"Prediction\"])\n",
    "    test_id=1\n",
    "    for prediction in new_predictions:\n",
    "        writer.writerow([test_id,prediction])\n",
    "        test_id+=1"
   ]
  },
  {
   "cell_type": "code",
   "execution_count": null,
   "metadata": {},
   "outputs": [],
   "source": []
  }
 ],
 "metadata": {
  "kernelspec": {
   "display_name": "Python 3",
   "language": "python",
   "name": "python3"
  },
  "language_info": {
   "codemirror_mode": {
    "name": "ipython",
    "version": 3
   },
   "file_extension": ".py",
   "mimetype": "text/x-python",
   "name": "python",
   "nbconvert_exporter": "python",
   "pygments_lexer": "ipython3",
   "version": "3.6.5"
  }
 },
 "nbformat": 4,
 "nbformat_minor": 2
}
